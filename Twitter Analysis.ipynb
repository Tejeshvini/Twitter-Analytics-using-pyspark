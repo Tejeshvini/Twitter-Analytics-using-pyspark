{
 "cells": [
  {
   "cell_type": "markdown",
   "metadata": {},
   "source": [
    "# Twitter Analysis using Pyspark\n"
   ]
  },
  {
   "cell_type": "code",
   "execution_count": null,
   "metadata": {},
   "outputs": [],
   "source": [
    "##import neccessary libraries and modules\n",
    "from __future__ import print_function\n",
    "import pyspark\n",
    "from pyspark import SparkContext\n",
    "from pyspark.sql import SQLContext, DataFrame\n",
    "from pyspark.sql.functions import *"
   ]
  },
  {
   "cell_type": "code",
   "execution_count": null,
   "metadata": {},
   "outputs": [],
   "source": [
    "##Create a spark instance\n",
    "sc= pyspark.SparkContext(\"yarn\")\n",
    "sqlContext = SQLContext(sc)"
   ]
  },
  {
   "cell_type": "code",
   "execution_count": null,
   "metadata": {},
   "outputs": [],
   "source": [
    "##read the json file with Twitter data\n",
    "df = sqlContext.read.json('/data/ProjectDataset/statuses.log.2014-12-1*.gz')\n",
    "##select the columns required for analysis\n",
    "df_sub = df.na.drop(subset=[\"user.id\"]).select([\"user\",\"entities\", \"lang\", \"retweeted\", \"favorited\", \"text\",\"delete\",\"retweeted_status\"])"
   ]
  },
  {
   "cell_type": "code",
   "execution_count": null,
   "metadata": {},
   "outputs": [],
   "source": [
    "##subset the dataframe with entities only\n",
    "from pyspark.sql.functions import array_contains\n",
    "entities_df = df_sub.select('entities.*')\n",
    "\n",
    "##aggreate the number tweets for each hashtag\n",
    "hashtags = entities_df.groupby('hashtags.text').count()\n",
    "print(hashtags.sort(desc('count')).show())"
   ]
  },
  {
   "cell_type": "code",
   "execution_count": 1,
   "metadata": {},
   "outputs": [
    {
     "ename": "NameError",
     "evalue": "name 'df_sub' is not defined",
     "output_type": "error",
     "traceback": [
      "\u001b[1;31m---------------------------------------------------------------------------\u001b[0m",
      "\u001b[1;31mNameError\u001b[0m                                 Traceback (most recent call last)",
      "\u001b[1;32m<ipython-input-1-b230d7ed02ac>\u001b[0m in \u001b[0;36m<module>\u001b[1;34m\u001b[0m\n\u001b[0;32m      1\u001b[0m \u001b[1;31m##count the number of retweets\u001b[0m\u001b[1;33m\u001b[0m\u001b[1;33m\u001b[0m\u001b[1;33m\u001b[0m\u001b[0m\n\u001b[1;32m----> 2\u001b[1;33m \u001b[0mMTVStars_df\u001b[0m \u001b[1;33m=\u001b[0m \u001b[0mdf_sub\u001b[0m\u001b[1;33m.\u001b[0m\u001b[0mfilter\u001b[0m\u001b[1;33m(\u001b[0m\u001b[0marray_contains\u001b[0m\u001b[1;33m(\u001b[0m\u001b[0mdf_sub\u001b[0m\u001b[1;33m.\u001b[0m\u001b[0mentities\u001b[0m\u001b[1;33m.\u001b[0m\u001b[0mhashtags\u001b[0m\u001b[1;33m.\u001b[0m\u001b[0mtext\u001b[0m\u001b[1;33m,\u001b[0m\u001b[1;34m'MTVStars'\u001b[0m\u001b[1;33m)\u001b[0m\u001b[1;33m)\u001b[0m\u001b[1;33m\u001b[0m\u001b[1;33m\u001b[0m\u001b[0m\n\u001b[0m\u001b[0;32m      3\u001b[0m \u001b[0mMTVStars_retweeted_status\u001b[0m \u001b[1;33m=\u001b[0m \u001b[0mMTVStars_df\u001b[0m\u001b[1;33m.\u001b[0m\u001b[0mselect\u001b[0m\u001b[1;33m(\u001b[0m\u001b[1;34m'retweeted_status.*'\u001b[0m\u001b[1;33m)\u001b[0m\u001b[1;33m\u001b[0m\u001b[1;33m\u001b[0m\u001b[0m\n\u001b[0;32m      4\u001b[0m \u001b[0mretweet_count\u001b[0m \u001b[1;33m=\u001b[0m \u001b[0mMTVStars_retweeted_status\u001b[0m\u001b[1;33m.\u001b[0m\u001b[0mgroupby\u001b[0m\u001b[1;33m(\u001b[0m\u001b[1;34m'retweet_count'\u001b[0m\u001b[1;33m)\u001b[0m\u001b[1;33m.\u001b[0m\u001b[0mcount\u001b[0m\u001b[1;33m(\u001b[0m\u001b[1;33m)\u001b[0m\u001b[1;33m\u001b[0m\u001b[1;33m\u001b[0m\u001b[0m\n\u001b[0;32m      5\u001b[0m \u001b[0mprint\u001b[0m\u001b[1;33m(\u001b[0m\u001b[0mretweet_count\u001b[0m\u001b[1;33m.\u001b[0m\u001b[0msort\u001b[0m\u001b[1;33m(\u001b[0m\u001b[0mdesc\u001b[0m\u001b[1;33m(\u001b[0m\u001b[1;34m'count'\u001b[0m\u001b[1;33m)\u001b[0m\u001b[1;33m)\u001b[0m\u001b[1;33m.\u001b[0m\u001b[0mshow\u001b[0m\u001b[1;33m(\u001b[0m\u001b[1;33m)\u001b[0m\u001b[1;33m)\u001b[0m\u001b[1;33m\u001b[0m\u001b[1;33m\u001b[0m\u001b[0m\n",
      "\u001b[1;31mNameError\u001b[0m: name 'df_sub' is not defined"
     ]
    }
   ],
   "source": [
    "##count the number of retweets\n",
    "MTVStars_df = df_sub.filter(array_contains(df_sub.entities.hashtags.text,'MTVStars'))\n",
    "MTVStars_retweeted_status = MTVStars_df.select('retweeted_status.*')\n",
    "retweet_count = MTVStars_retweeted_status.groupby('retweet_count').count()\n",
    "\n",
    "##sort in the descending order\n",
    "print(retweet_count.sort(desc('count')).show())\n",
    "retweet = MTVStars_retweeted_status.groupby('retweeted').count()\n",
    "print(retweet.sort(desc('count')).show())"
   ]
  },
  {
   "cell_type": "code",
   "execution_count": null,
   "metadata": {},
   "outputs": [],
   "source": [
    "##subset the main dataframe for users only to see the users tweeting the most\n",
    "MTVstars_user = MTVStars_df.select('user.*')\n",
    "MTVstars_urls = MTVstars_user.groupby('url').count()\n"
   ]
  },
  {
   "cell_type": "code",
   "execution_count": null,
   "metadata": {},
   "outputs": [],
   "source": [
    "##sort in the descending\n",
    "print(MTVstars_urls.sort(desc('count')).show())\n",
    "MTVstars_tweeters_name = MTVstars_user.groupby('name').count()\n",
    "print(MTVstars_tweeters_name.sort(desc('count')).show())"
   ]
  },
  {
   "cell_type": "code",
   "execution_count": null,
   "metadata": {},
   "outputs": [],
   "source": [
    "##check the number of verified accounts\n",
    "MTVstars_ver = MTVstars_user.groupby('verified').count()\n",
    "print(MTVStars_ver_only)"
   ]
  },
  {
   "cell_type": "code",
   "execution_count": null,
   "metadata": {},
   "outputs": [],
   "source": [
    "##subset the users dataframe with tweet text and user name only\n",
    "MTVStars_new=MTVStars_df.select(\"text\",\"user.name\")\n",
    "\n",
    "##check for only verfied accounts\n",
    "MTVStars_top1 = MTVStars_new.where(col(\"name\").isin({\"#MTVStars Coldplay\",\"MTVCpVote\",\"NICKI MINAJ\",\"✞NICKI MINAJ✞\",\"Katy Perry\"}))\n",
    "##save the results to a csv\n",
    "MTVStars_top1.toPandas().to_csv('MTVStars_top1.csv')"
   ]
  },
  {
   "cell_type": "code",
   "execution_count": null,
   "metadata": {},
   "outputs": [],
   "source": [
    "##import libraries to create a wordcloud\n",
    "import numpy as np\n",
    "import pandas as pd\n",
    "from os import path\n",
    "from PIL import Image\n",
    "from wordcloud import WordCloud, ImageColorGenerator\n",
    "import matplotlib.pyplot as plt"
   ]
  },
  {
   "cell_type": "code",
   "execution_count": null,
   "metadata": {},
   "outputs": [],
   "source": [
    "##read the csv file created in the previous step\n",
    "wordcloud_df = pd.read_csv(\"MTVStars_top1.csv\")\n",
    "\n",
    "##convert the text in tweets to string\n",
    "text_strings = wordcloud_df[\"text\"].to_string()\n",
    "\n",
    "##tokenize the words \n",
    "text_tokens = nltk.word_tokenize(text_strings)"
   ]
  },
  {
   "cell_type": "code",
   "execution_count": null,
   "metadata": {},
   "outputs": [],
   "source": [
    "##import the stopwords list remove the stopwords from tweet texts\n",
    "from nltk.corpus import stopwords\n",
    "stopword_list = stopwords.words('english')\n",
    "\n",
    "##remove the stopwords\n",
    "wordcloud_words = ' '.join([token for token in text_tokens if token not in stopword_list])\n",
    "\n",
    "##convert the words into lowercase\n",
    "wordcloud_words = wordcloud_words.lower()\n",
    "x=' '.join([token for token in text_tokens if token not in stopword_list])"
   ]
  },
  {
   "cell_type": "code",
   "execution_count": null,
   "metadata": {},
   "outputs": [],
   "source": [
    "##create the word cloud for most tweeted words\n",
    "def create_word_cloud(string):\n",
    "    cloud = WordCloud(width = 500, height = 500,background_color = \"white\", max_words = 500, stopwords = set(STOPWORDS))\n",
    "    cloud.generate(string)\n",
    "    cloud.to_file(\"wordCloud6.png\")\n",
    "create_word_cloud(str(wordcloud_words))"
   ]
  }
 ],
 "metadata": {
  "kernelspec": {
   "display_name": "Python 3",
   "language": "python",
   "name": "python3"
  },
  "language_info": {
   "codemirror_mode": {
    "name": "ipython",
    "version": 3
   },
   "file_extension": ".py",
   "mimetype": "text/x-python",
   "name": "python",
   "nbconvert_exporter": "python",
   "pygments_lexer": "ipython3",
   "version": "3.7.3"
  }
 },
 "nbformat": 4,
 "nbformat_minor": 2
}
